{
 "cells": [
  {
   "cell_type": "code",
   "execution_count": 1,
   "id": "278e14cb-a311-48ba-8e2c-acfcb3dbe08c",
   "metadata": {},
   "outputs": [
    {
     "name": "stdin",
     "output_type": "stream",
     "text": [
      "You:  What is chronic disease?\n"
     ]
    },
    {
     "name": "stdout",
     "output_type": "stream",
     "text": [
      "Chatbot: A long-term health condition, lasting 1 year or more, requiring ongoing medical attention and management, such as diabetes, heart disease, cancer, and liver disease.\n"
     ]
    },
    {
     "name": "stdin",
     "output_type": "stream",
     "text": [
      "You:  What is the treatments of chronicdisease\n"
     ]
    },
    {
     "name": "stdout",
     "output_type": "stream",
     "text": [
      "Chatbot: Here are common treatment options for chronic liver disease: Lifestyle Changes, Medications,Therapies,Alternative Therapies,Disease-Specific Treatments,Ongoing Care\n"
     ]
    },
    {
     "name": "stdin",
     "output_type": "stream",
     "text": [
      "You:  what Lifestyle Changes can help manage chronicdisease\n"
     ]
    },
    {
     "name": "stdout",
     "output_type": "stream",
     "text": [
      "Chatbot: Healthy diet (low-fat, high-fiber), Regular exercise, Weight management, Quit smoking, Limit alcohol consumption and Avoid illicit substances\n"
     ]
    },
    {
     "name": "stdin",
     "output_type": "stream",
     "text": [
      "You:  i want to know about alternative therapies\n"
     ]
    },
    {
     "name": "stdout",
     "output_type": "stream",
     "text": [
      "Chatbot: Acupuncture, Herbal supplements (e.g., milk thistle, turmeric) and Vitamin and mineral supplements\n"
     ]
    },
    {
     "name": "stdin",
     "output_type": "stream",
     "text": [
      "You:  what are the primary surgical options for chronicdisease\n"
     ]
    },
    {
     "name": "stdout",
     "output_type": "stream",
     "text": [
      "Chatbot:  Liver resection (removing damaged tissue) ,Transjugular intrahepatic portosystemic shunt (TIPS) for portal hypertension and Liver transplantation\n"
     ]
    },
    {
     "name": "stdin",
     "output_type": "stream",
     "text": [
      "You:  define Disease-Specific \n"
     ]
    },
    {
     "name": "stdout",
     "output_type": "stream",
     "text": [
      "Chatbot: Hepatitis B/C: Antiviral medications, Non-alcoholic fatty liver disease (NAFLD): Weight loss, insulin sensitizers, Primary biliary cholangitis (PBC): Ursodeoxycholic acid and Primary sclerosing cholangitis (PSC): Immunomodulators, antibiotics\n"
     ]
    },
    {
     "name": "stdin",
     "output_type": "stream",
     "text": [
      "You:  i want to know about Ongoing Care\n"
     ]
    },
    {
     "name": "stdout",
     "output_type": "stream",
     "text": [
      "Chatbot:  Regular check-ups with a hepatologist/gastroenterologist, Monitoring liver function tests (LFTs) and Adjusting treatment plans as needed\n"
     ]
    },
    {
     "name": "stdin",
     "output_type": "stream",
     "text": [
      "You:  Mortality from heart failure i want rate\n"
     ]
    },
    {
     "name": "stdout",
     "output_type": "stream",
     "text": [
      "Chatbot: According to the National Vital Statistics System (NVSS) in 2010, Oregon reported: 30 deaths from heart failure mortality\n"
     ]
    },
    {
     "name": "stdin",
     "output_type": "stream",
     "text": [
      "You:  Binge drinking prevalence among youth\n"
     ]
    },
    {
     "name": "stdout",
     "output_type": "stream",
     "text": [
      "Chatbot: New Jersey YRBSS (2013): 23% of New Jersey youth reported binge drinking\n"
     ]
    },
    {
     "name": "stdin",
     "output_type": "stream",
     "text": [
      "You:  Alcohol use before pregnancy\n"
     ]
    },
    {
     "name": "stdout",
     "output_type": "stream",
     "text": [
      "Chatbot: According to the Pregnancy Risk Assessment Monitoring System (PRAMS) in 2015, 59.1% of Alabama women reported alcohol use before pregnancy.\n"
     ]
    },
    {
     "name": "stdin",
     "output_type": "stream",
     "text": [
      "You:  Chronic liver disease mortality\n"
     ]
    },
    {
     "name": "stdout",
     "output_type": "stream",
     "text": [
      "Chatbot: According to Alaska NVSS data: 2011: 99 deaths from chronic liver disease\n"
     ]
    },
    {
     "name": "stdin",
     "output_type": "stream",
     "text": [
      "You:  Alcohol use among youth\n"
     ]
    },
    {
     "name": "stdout",
     "output_type": "stream",
     "text": [
      "Chatbot: According to the Youth Risk Behavior Surveillance System (YRBSS) in 2019, Arizona reported: 29.5% of youth reported alcohol use\n"
     ]
    },
    {
     "name": "stdin",
     "output_type": "stream",
     "text": [
      "You:  Alcohol use before pregnancy\n"
     ]
    },
    {
     "name": "stdout",
     "output_type": "stream",
     "text": [
      "Chatbot: According to the Pregnancy Risk Assessment Monitoring System (PRAMS) in 2015, 59.1% of Alabama women reported alcohol use before pregnancy.\n"
     ]
    },
    {
     "name": "stdin",
     "output_type": "stream",
     "text": [
      "You:  bye\n"
     ]
    },
    {
     "name": "stdout",
     "output_type": "stream",
     "text": [
      "Chatbot: Goodbye!\n"
     ]
    }
   ],
   "source": [
    "import pandas as pd\n",
    "import nltk\n",
    "from nltk.stem import WordNetLemmatizer\n",
    "from sklearn.feature_extraction.text import TfidfVectorizer\n",
    "from sklearn.metrics.pairwise import cosine_similarity\n",
    "import numpy as np\n",
    "\n",
    "# Constants\n",
    "DATASET_FILE = 'chronic.csv'\n",
    "VECTORIZER_FILE = 'vectorizer.pkl'\n",
    "MODEL_FILE = 'model.pkl'\n",
    "HEALTH_DATA = {\n",
    "    'CT': {'2014': 375},\n",
    "    'DC': {'2015': 23, '2017': 53, '2020': 57},\n",
    "    'DE': {'2010': 77}\n",
    "}\n",
    "\n",
    "# Load dataset\n",
    "def load_dataset(file_path):\n",
    "    dataset = pd.read_csv(file_path)\n",
    "    dataset.rename(columns={'Question': 'question', 'Response': 'response'}, inplace=True)\n",
    "    return dataset[['question', 'response']]\n",
    "\n",
    "# Preprocess text\n",
    "def preprocess_text(text, lemmatizer):\n",
    "    text = text.lower()\n",
    "    tokens = nltk.word_tokenize(text)\n",
    "    tokens = [lemmatizer.lemmatize(token) for token in tokens]\n",
    "    return ' '.join(tokens)\n",
    "\n",
    "# Create TF-IDF vectorizer\n",
    "def create_vectorizer(dataset):\n",
    "    vectorizer = TfidfVectorizer()\n",
    "    vectorizer.fit(dataset['question'])\n",
    "    return vectorizer\n",
    "\n",
    "# Train model\n",
    "def train_model(vectorizer, dataset):\n",
    "    X = vectorizer.transform(dataset['question'])\n",
    "    y = dataset['response']\n",
    "    return X, y\n",
    "\n",
    "# Get chatbot response\n",
    "def get_response(user_input, vectorizer, X, y):\n",
    "    user_input_processed = preprocess_text(user_input, WordNetLemmatizer())\n",
    "    user_input_vector = vectorizer.transform([user_input_processed])\n",
    "    similarities = cosine_similarity(user_input_vector, X)\n",
    "    best_match_index = np.argmax(similarities)\n",
    "    return y.iloc[best_match_index]\n",
    "\n",
    "# Get health response\n",
    "def get_health_response(state, year):\n",
    "    if state in HEALTH_DATA and year in HEALTH_DATA[state]:\n",
    "        return f\"According to the National Vital Statistics System (NVSS) in {year}, {state} reported {HEALTH_DATA[state][year]} deaths from chronic liver disease.\"\n",
    "    else:\n",
    "        return \"No data available for this state and year.\"\n",
    "\n",
    "# Main chatbot loop\n",
    "def main():\n",
    "    dataset = load_dataset(DATASET_FILE)\n",
    "    lemmatizer = WordNetLemmatizer()\n",
    "    dataset['processed_question'] = dataset['question'].apply(lambda x: preprocess_text(x, lemmatizer))\n",
    "    vectorizer = create_vectorizer(dataset)\n",
    "    X, y = train_model(vectorizer, dataset)\n",
    "\n",
    "    while True:\n",
    "        user_input = input('You: ')\n",
    "        if user_input.lower() in ['exit', 'quit', 'bye']:\n",
    "            print('Chatbot: Goodbye!')\n",
    "            break\n",
    "        elif user_input.lower().startswith('health'):\n",
    "            parts = user_input.split()\n",
    "            if len(parts) == 3 and parts[1].upper() in HEALTH_DATA and parts[2] in HEALTH_DATA[parts[1].upper()]:\n",
    "                response = get_health_response(parts[1].upper(), int(parts[2]))\n",
    "            else:\n",
    "                response = \"Invalid health query. Please use format: 'health [state] [year]'.\"\n",
    "        else:\n",
    "            response = get_response(user_input, vectorizer, X, y)\n",
    "        print('Chatbot:', response)\n",
    "\n",
    "if __name__ == '__main__':\n",
    "    main()"
   ]
  }
 ],
 "metadata": {
  "kernelspec": {
   "display_name": "Python 3 (ipykernel)",
   "language": "python",
   "name": "python3"
  },
  "language_info": {
   "codemirror_mode": {
    "name": "ipython",
    "version": 3
   },
   "file_extension": ".py",
   "mimetype": "text/x-python",
   "name": "python",
   "nbconvert_exporter": "python",
   "pygments_lexer": "ipython3",
   "version": "3.12.5"
  }
 },
 "nbformat": 4,
 "nbformat_minor": 5
}
